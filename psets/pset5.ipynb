{
 "cells": [
  {
   "cell_type": "markdown",
   "id": "01ad88a2-a4dc-457b-90d5-c7e14eff71df",
   "metadata": {},
   "source": [
    "# 18.S190/6.S090 Problem Set 5\n",
    "\n",
    "Due Friday 3/14 at **11:59pm**; 20% penalty if it is turned in within 24 hours, and after that late psets will not be accepted.   Submit in PDF format: a decent-quality scan/image of any handwritten solutions (e.g. get a scanner app on your phone or use a tablet), combined with a PDF printout of your Jupyter notebook showing your code and (clearly labeled) results."
   ]
  },
  {
   "cell_type": "markdown",
   "id": "b9b7c648-46b3-4212-9e40-a01d2f2be2d9",
   "metadata": {},
   "source": [
    "## Problem 1 (5+5+5 points)\n",
    "\n",
    "Consider the following ordinary differential equation  \n",
    "\n",
    "$$\\frac{dx}{dt} = i x, \\quad x(0) = 1$$  \n",
    "\n",
    "where $i = \\sqrt{-1}$.  \n",
    "\n",
    "1. What is the analytical solution of the ODE at $t = \\pi$?  \n",
    "\n",
    "2. Write a code to numerically solve the ODE using forward Euler. What is the numerical solution at $t = \\pi$ with the following time step sizes?  \n",
    "   $\\Delta t = \\pi / 2^n, \\quad n = 0, 1, \\dots, 10$  \n",
    "\n",
    "3. Generate a **log-log** plot of the solution error (the absolute value of difference between the numerical and analytical solutions) at $t = \\pi$ versus $\\Delta t$. Describe what you observe in the plot.  \n"
   ]
  },
  {
   "cell_type": "markdown",
   "id": "eeb86d31-15c7-4f01-a83d-cd1b7d94eafa",
   "metadata": {},
   "source": [
    "## Problem 2 (6+6+6 points)\n",
    "\n",
    "Consider the following numerical integration methods for $\\frac{dv}{dt} = F(v)$:  \n",
    "\n",
    "**(A)**\n",
    "$$ v^{n+1} = -4v^n + 5v^{n-1} + 4\\Delta t F(v^n) + 2\\Delta t F(v^{n-1}) $$  \n",
    "\n",
    "**(B)** \n",
    "$$ v^{n+1} = v^n + \\frac{3}{2} \\Delta t F(v^{n+1}) - \\frac{1}{2} \\Delta t F(v^{n-1}) $$  \n",
    "\n",
    "1. For each scheme, show that it is **consistent**: if you divide both sides by $\\Delta t$, it approaches $\\frac{dv}{dt} = F(v) + O(\\Delta t^p)$ for some $p > 0$.  Find the order of accuracy $p$.\n",
    "\n",
    "2. For each scheme, determine whether it is zero stable.  \n",
    "\n",
    "3. For each scheme, determine whether it is linearly stable if the right-hand-side is $F(v) = -\\lambda v$ for a real, nonnegative $\\lambda$. If your answer depends on $\\Delta t$, state the range of $\\Delta t$ for which the scheme is linearly stable.\n"
   ]
  },
  {
   "cell_type": "markdown",
   "id": "fc6539cf-aad6-4760-80fc-e4ecbf7188be",
   "metadata": {},
   "source": [
    "## Problem 3 (5+5+5 points)\n",
    "\n",
    "A reasonable model of the velocity $v(t)$ of a skydiver is the initial-value problem (IVP)\n",
    "\n",
    "$ \\frac{dv}{dt} = -g + \\frac{k}{m} v^2, \\quad v(0) = 0, $\n",
    "\n",
    "where $g = 9.8 \\, \\text{m/sec}^2$ is gravitational acceleration, $m$ is the mass of the skydiver with parachute, and $k$ quantifies the effect of air resistance. At the US Air Force Academy, a training jump starts at about 1200 m and has $k = 0.4875$ for $t < 13$ and $k = 29.16$ for $t \\geq 13$. (This is an oversimplification; see [Meade & Struthers (1999)](https://www.ijee.ie/articles/Vol15-6/ijee1097.pdf).)\n",
    "\n",
    "1. Solve the IVP for $v$ for an 80-kg cadet for $t \\in [0,200]$, and plot the solution.\n",
    "\n",
    "2. Suppose we also want the altitude $h$, satisfying $dh/dt = -v$.   Write a combined system of ODEs $du/dt = f(u,t)$ for the vector $u = [v, h]$.  (What is the right-hand-side $f(u,t)$ and the initial condition $u(0)$?)   Plug this system into your numerical solver algorithm from part (1) and plot the resulting $h(t)$ (from the second component of the solution).\n",
    "\n",
    "3. You should have found that the altitude $h$ becomes negative at some point.  How would you determine, consistent with your approximate solver in part (2), the time $t$ at which $h(t)=0$? (That is, when does the skydiver hit the ground?)   (Hint: what interpolation between data points $t_n, u_n$ is implied by your numerical method?  Use *this* interpolation, for the same $\\Delta t$, to find the root of $h$.)"
   ]
  }
 ],
 "metadata": {
  "kernelspec": {
   "display_name": "Python 3 (ipykernel)",
   "language": "python",
   "name": "python3"
  },
  "language_info": {
   "codemirror_mode": {
    "name": "ipython",
    "version": 3
   },
   "file_extension": ".py",
   "mimetype": "text/x-python",
   "name": "python",
   "nbconvert_exporter": "python",
   "pygments_lexer": "ipython3",
   "version": "3.10.14"
  }
 },
 "nbformat": 4,
 "nbformat_minor": 5
}
