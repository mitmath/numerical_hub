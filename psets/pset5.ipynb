{
 "cells": [
  {
   "cell_type": "markdown",
   "id": "01ad88a2-a4dc-457b-90d5-c7e14eff71df",
   "metadata": {},
   "source": [
    "# Pset 5"
   ]
  },
  {
   "cell_type": "markdown",
   "id": "b9b7c648-46b3-4212-9e40-a01d2f2be2d9",
   "metadata": {},
   "source": [
    "## Problem 1\n",
    "\n",
    "Consider the following ordinary differential equation  \n",
    "\n",
    "$$\\frac{dx}{dt} = i x, \\quad x(0) = 1$$  \n",
    "\n",
    "where $i = \\sqrt{-1}$.  \n",
    "\n",
    "1. What is the analytical solution of the ODE at $t = \\pi$?  \n",
    "\n",
    "2. Write a code to numerically solve the ODE using forward Euler. What is the numerical solution at $t = \\pi$ with the following time step sizes?  \n",
    "   $\\Delta t = \\pi / 2^n, \\quad n = 0, 1, \\dots, 10$  \n",
    "\n",
    "3. Generate a **log-log** plot of the solution error (the absolute value of difference between the numerical and analytical solutions) at $t = \\pi$ versus $\\Delta t$. Describe what you observe in the plot.  \n"
   ]
  },
  {
   "cell_type": "code",
   "execution_count": null,
   "id": "58d9c75c-2384-4a53-8b49-4b99e88bc2a3",
   "metadata": {},
   "outputs": [],
   "source": []
  },
  {
   "cell_type": "markdown",
   "id": "eeb86d31-15c7-4f01-a83d-cd1b7d94eafa",
   "metadata": {},
   "source": [
    "## Problem 2\n",
    "\n",
    "Consider the following numerical integration methods:  \n",
    "\n",
    "1.  \n",
    "   $$ v^{n+1} = -4v^n + 5v^{n-1} + 4\\Delta t F(v^n) + 2\\Delta t F(v^{n-1}) $$  \n",
    "\n",
    "2.  \n",
    "   $$ v^{n+1} = v^n + \\frac{3}{2} \\Delta t F(v^{n+1}) - \\frac{1}{2} \\Delta t F(v^{n-1}) $$  \n",
    "\n",
    "- For each scheme, determine whether it is zero stable.  \n",
    "- For each scheme, determine its global order of accuracy.  \n",
    "- For each scheme, determine whether it is eigenvalue stable in solving the equation  \n",
    "\n",
    "  $$ \\frac{du}{dt} = -\\lambda u $$  \n",
    "\n",
    "  for a real, nonnegative $\\lambda$. If your answer depends on $\\Delta t$, state the range of $\\Delta t$ for which the scheme is eigenvalue stable.  \n"
   ]
  },
  {
   "cell_type": "code",
   "execution_count": null,
   "id": "59b1eae4-1c7e-408c-8c28-f306ae36e912",
   "metadata": {},
   "outputs": [],
   "source": []
  },
  {
   "cell_type": "markdown",
   "id": "fc6539cf-aad6-4760-80fc-e4ecbf7188be",
   "metadata": {},
   "source": [
    "## Problem 3\n",
    "\n",
    "A reasonable model of the velocity $v(t)$ of a skydiver is\n",
    "\n",
    "$ \\frac{dv}{dt} = -g + \\frac{k}{m} v^2, \\quad v(0) = 0, $\n",
    "\n",
    "where $g = 9.8 \\, \\text{m/sec}^2$ is gravitational acceleration, $m$ is the mass of the skydiver with parachute, and $k$ quantifies the effect of air resistance. At the US Air Force Academy, a training jump starts at about 1200 m and has $k = 0.4875$ for $t < 13$ and $k = 29.16$ for $t \\geq 13$. (This is an oversimplification; see Meade & Struthers (1999).)\n",
    "\n",
    "(a) Solve the IVP for $v$ for an 80-kg cadet for $t \\in [0,200]$, and plot the solution.\n",
    "\n",
    "(b) Suppose we also want the altitude h, satisfying $dh/dt = -v$.   Write a combined system of ODEs du/dt = f(u,t) for the vector u = [v, h].  (What is the right-hand-side f(u,t) and the initial condition u(0)?)   Plug this system into your numerical solver algorithm from part (a) and plot the resulting h(t) (from the second component of the solution).\n",
    "\n",
    "(c) You should have found that the altitude h becomes negative at some point.  How would you determine, consistent with your approximate solver in part (b), the time t at which h(t)=0? (i.e. when does the skydiver hit the ground?).   (Hint: what interpolation between data points $t_n, u_n$ is implied by your numerical method?)\n",
    "\n",
    "\n",
    "\n",
    "\n",
    "\n",
    "\n",
    "  \n"
   ]
  },
  {
   "cell_type": "code",
   "execution_count": null,
   "id": "c45fa902-5875-4813-ae74-086871396a6b",
   "metadata": {},
   "outputs": [],
   "source": []
  }
 ],
 "metadata": {
  "kernelspec": {
   "display_name": "Python 3 (ipykernel)",
   "language": "python",
   "name": "python3"
  },
  "language_info": {
   "codemirror_mode": {
    "name": "ipython",
    "version": 3
   },
   "file_extension": ".py",
   "mimetype": "text/x-python",
   "name": "python",
   "nbconvert_exporter": "python",
   "pygments_lexer": "ipython3",
   "version": "3.9.6"
  }
 },
 "nbformat": 4,
 "nbformat_minor": 5
}
