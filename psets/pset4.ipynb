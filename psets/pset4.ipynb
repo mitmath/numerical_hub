{
 "cells": [
  {
   "cell_type": "markdown",
   "id": "8ca001a4-0e99-4e44-9f28-c2074a4acb45",
   "metadata": {},
   "source": [
    "# 18.S190/6.S090 Problem Set 4\n",
    "\n",
    "Due Friday 3/7 at **11:59pm**; 20% penalty if it is turned in within 24 hours, and after that late psets will not be accepted.   Submit in PDF format: a decent-quality scan/image of any handwritten solutions (e.g. get a scanner app on your phone or use a tablet), combined with a PDF printout of your Jupyter notebook showing your code and (clearly labeled) results."
   ]
  },
  {
   "cell_type": "markdown",
   "id": "67cd8803",
   "metadata": {},
   "source": [
    "## Problem 1\n",
    "\n",
    "To do (Steven):\n",
    "\n",
    "implement h-adaptive 1d quadrature with fixed-order Clenshaw–Curtis rule (from pset 3), and compare to p-adaptive.\n",
    "\n",
    "Test out the example function from [this post](https://discourse.julialang.org/t/insanely-higher-order-derivatives/104455/17?u=stevengj), which illustrates that the adaptivity beats exponential convergence for a function with a sharp peak.\n",
    "\n",
    "Maybe try out a couple of other functions: a smooth highly oscillatory function (where p-adaptive should be better), and a function with an endpoint singularity."
   ]
  },
  {
   "cell_type": "markdown",
   "id": "1e4cbe1f",
   "metadata": {},
   "source": [
    "## Problem 2\n",
    "\n",
    "To do (Qiqi):\n",
    "\n",
    "Monte-Carlo integration for the volume of a hypersphere in d dimensions (for some set of d's).   Show $1/\\sqrt{N}$ convergence."
   ]
  },
  {
   "cell_type": "markdown",
   "id": "b1495ee5",
   "metadata": {},
   "source": [
    "## Problem 3\n",
    "\n",
    "To do: something with Richardson extrapolation?  FNC book has some problems involving extrapolation methods, I think?"
   ]
  },
  {
   "cell_type": "markdown",
   "id": "4a776494",
   "metadata": {},
   "source": [
    "## Problem 4:\n",
    "\n",
    "To do (Steven): Newton methods, from [problem 3 of this pset](https://github.com/mitmath/18335/blob/spring21/psets/pset1.pdf)"
   ]
  },
  {
   "cell_type": "markdown",
   "id": "dcc2f0c1",
   "metadata": {},
   "source": []
  }
 ],
 "metadata": {
  "kernelspec": {
   "display_name": "Julia 1.11.3",
   "language": "julia",
   "name": "julia-1.11"
  },
  "language_info": {
   "file_extension": ".jl",
   "mimetype": "application/julia",
   "name": "julia",
   "version": "1.11.3"
  }
 },
 "nbformat": 4,
 "nbformat_minor": 5
}
