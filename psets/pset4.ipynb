{
 "cells": [
  {
   "cell_type": "markdown",
   "id": "73427197-bca0-4e5e-a38f-86bc2aff3156",
   "metadata": {},
   "source": [
    "# 18.S190/6.S090 Problem Set 4\n",
    "\n",
    "Due Friday 3/7 at **11:59pm**; 20% penalty if it is turned in within 24 hours, and after that late psets will not be accepted.   Submit in PDF format: a decent-quality scan/image of any handwritten solutions (e.g. get a scanner app on your phone or use a tablet), combined with a PDF printout of your Jupyter notebook showing your code and (clearly labeled) results."
   ]
  },
  {
   "cell_type": "markdown",
   "id": "d1d03ec7-2b26-41ee-be11-1d038486c750",
   "metadata": {},
   "source": [
    "## Problem 1\n",
    "To do (Steven):\n",
    "\n",
    "implement h-adaptive 1d quadrature with fixed-order Clenshaw–Curtis rule (from pset 3), and compare to p-adaptive.\n",
    "\n",
    "Test out the example function from this post, which illustrates that the adaptivity beats exponential convergence for a function with a sharp peak.\n",
    "\n",
    "Maybe try out a couple of other functions: a smooth highly oscillatory function (where p-adaptive should be better), and a function with an endpoint singularit"
   ]
  },
  {
   "cell_type": "code",
   "execution_count": null,
   "id": "1a0caeff-e77b-45ce-9006-81608485cd81",
   "metadata": {},
   "outputs": [],
   "source": []
  },
  {
   "cell_type": "markdown",
   "id": "b763d604-87ee-4643-b919-9922a1cea2ac",
   "metadata": {},
   "source": [
    "# Problem 2: Computing the Volume of a Unit $ n $-Ball\n",
    "\n",
    "\n",
    "The volume of a unit $ n $-ball (a ball of radius 1 in $ n $-dimensional space) is given by the formula:\n",
    "\n",
    "$$\n",
    "V_n = \\frac{\\pi^{n/2}}{\\Gamma\\left(\\frac{n}{2} + 1\\right)}\n",
    "$$\n",
    "\n",
    "\n",
    "where $ \\Gamma $ is the gamma function. For reference, the first few values are:\n",
    "\n",
    "- $ V_1 = 2 $ (length of a line segment from $-1$ to $1$)\n",
    "- $ V_2 = \\pi $ (area of a circle with radius $1$)\n",
    "- $V_3 = \\frac{4\\pi}{3}$ (volume of a sphere with radius $1$)\n",
    "- $V_4 = \\frac{\\pi^2}{2}$\n",
    "- $V_5 = \\frac{8\\pi^2}{15}$\n",
    "\n",
    "The gamma function can be computed using:\n",
    "\n",
    "- **Python**: [`scipy.special.gamma(z)`](https://docs.scipy.org/doc/scipy/reference/generated/scipy.special.gamma.html)"
   ]
  },
  {
   "cell_type": "code",
   "execution_count": null,
   "id": "00004087-0463-4dd8-afb6-287e924a7db7",
   "metadata": {},
   "outputs": [],
   "source": [
    "from scipy.special import gamma\n",
    "result = gamma(z)  # where z is a real or complex number"
   ]
  },
  {
   "cell_type": "markdown",
   "id": "efc57eab-d4ae-4e91-af24-04b5c9c66939",
   "metadata": {},
   "source": [
    "- **Julia**: [`SpecialFunctions.gamma(z)`](https://specialfunctions.juliamath.org/stable/functions_overview/)"
   ]
  },
  {
   "cell_type": "markdown",
   "id": "ec31c74b-5546-4c9a-bfdc-87b7bd98ebfd",
   "metadata": {},
   "source": [
    "  ```julia\n",
    "using SpecialFunctions\n",
    "result = gamma(z)  # where z is a real or complex number\n",
    "  ```"
   ]
  },
  {
   "cell_type": "markdown",
   "id": "9b47155b-881c-42eb-8cec-72e69d50e9c6",
   "metadata": {},
   "source": [
    "In this problem, you will compute the volume of a unit $ n $-ball for dimensions $ d $ from 1 to 10 using the Monte Carlo method and compare the results with the analytical formula.\n",
    "\n",
    "---\n",
    "\n",
    "## Part 1: Monte Carlo Integration (40 points)\n",
    "\n",
    "The Monte Carlo quadrature for integrating a function $ f(x) $ over a $ d $-dimensional hypercube $[-1, 1]^d$ can be computed as:\n",
    "\n",
    "$$\n",
    "\\int_{[-1,1]^d} f(x) \\,dx \\approx \\frac{2^d}{N} \\sum_{i=1}^{N} f(x_i)\n",
    "$$\n",
    "\n",
    "where $ x_i $ are uniformly distributed random points in $[-1, 1]^d$ and $ 2^d $ is the volume of the hypercube.\n",
    "\n",
    "1. Write a generic function that performs Monte Carlo quadrature over a $ d $-dimensional hypercube $[-1, 1]^d$:"
   ]
  },
  {
   "cell_type": "code",
   "execution_count": null,
   "id": "6cad26f7-5dba-4595-8b9a-c9b6e0ec405f",
   "metadata": {},
   "outputs": [],
   "source": [
    "def monte_carlo_quadrature(func, num_points, dimension):\n",
    "    \"\"\"\n",
    "    Perform Monte Carlo quadrature for a function over the hypercube [-1,1]^d.\n",
    "    \n",
    "    Parameters:\n",
    "    func (callable): Function to integrate, taking a point of dimension d and returning a scalar\n",
    "    num_points (int): Number of random points to generate\n",
    "    dimension (int): Dimension of the space\n",
    "    \n",
    "    Returns:\n",
    "    float: Estimated integral value\n",
    "    float: Standard error of the estimate\n",
    "    \"\"\""
   ]
  },
  {
   "cell_type": "markdown",
   "id": "03671e70-b104-4f60-a7ae-3b7133a9df58",
   "metadata": {},
   "source": [
    "2. Use the above function to estimate the volume of a unit $ n $-ball in dimensions 1 through 10, by integrating:\n",
    "\n",
    "$$\n",
    "f(x) :=\n",
    "\\begin{cases} \n",
    "   1, & \\|x\\|_2 < 1 \\\\\n",
    "   0, & \\|x\\|_2 > 1\n",
    "\\end{cases}\n",
    "$$\n",
    "\n",
    "\n",
    "   with $ N=100000 $. This function can be implemented as given below.\n",
    "\n",
    "   Compare your results to the exact volume using the analytical formula for verification.\n",
    "\n"
   ]
  },
  {
   "cell_type": "code",
   "execution_count": null,
   "id": "c637f3ec-63d5-4f63-8555-b40c65ba8482",
   "metadata": {},
   "outputs": [],
   "source": [
    "def is_in_unit_ball(x):\n",
    "    \"\"\"\n",
    "    Check if a point is inside the unit ball.\n",
    "    \n",
    "    Parameters:\n",
    "    x (array-like): Point coordinates\n",
    "    \n",
    "    Returns:\n",
    "    bool: True if the point is inside the unit ball, False otherwise\n",
    "    \"\"\"\n",
    "    return x**2 < 1"
   ]
  },
  {
   "cell_type": "markdown",
   "id": "84e219a3-3ca5-4629-ad67-c1ad209036af",
   "metadata": {},
   "source": [
    "## Part 2: Convergence Analysis (30 points)\n",
    "\n",
    "Investigate the convergence of your Monte Carlo estimate as the number of points increases.\n",
    "\n",
    "1. For each dimension $ d $ from 1 to 10, compute the relative error between your estimate and the true volume for various numbers of points $ N $, using logarithmically spaced values from $ N = 10 $ to $ N = 10^8 $.\n",
    "2. Create a log-log plot showing the convergence rate (relative error vs. number of points) for all dimensions on the same graph.\n",
    "3. Use your plot to estimate the empirical convergence rate. Does it match the theoretical rate of $ O(N^{-1/2}) $ for Monte Carlo methods?"
   ]
  },
  {
   "cell_type": "code",
   "execution_count": null,
   "id": "0f12e72c-1de6-4cd5-8b28-11c6c5972baa",
   "metadata": {},
   "outputs": [],
   "source": []
  },
  {
   "cell_type": "markdown",
   "id": "5b15e200-33b2-41c6-aa34-5bd779550c79",
   "metadata": {},
   "source": [
    "## Part 3: Comparison with Deterministic Quadrature (30 points)\n",
    "\n",
    "Discuss the relative efficiency of Monte Carlo integration compared to deterministic quadrature methods for this problem.\n",
    "Note that for piecewise smooth functions with discontinuities such as $ f(x) $ in Part 1, both the trapezoidal rule and Clenshaw–Curtis quadrature have an error of $ O(1/N_{1d}) $, where $ N_{1d} $ is the number of grid points in each dimension.\n",
    "\n",
    "1. For the function $ f(x) $ in Part 1, what is the rate of convergence of the trapezoidal rule as a function of the total number of evaluations $ N $ and the dimension $ d $? How would the convergence rate change if the function were smooth? \n",
    "2. For the function $ f(x) $ in Part 1, what is the rate of convergence of the Clenshaw–Curtis rule as a function of the total number of evaluations $ N $ and the dimension $ d $? How would the convergence rate change if the function were smooth?\n",
    "3. At what dimension does Monte Carlo integration become more efficient than the trapezoidal rule asymptotically? Answer for both discontinuous functions (such as $ f(x) $ in this example) and smooth functions.\n",
    "4. At what dimension does Monte Carlo integration become more efficient than Clenshaw–Curtis asymptotically? Answer for both discontinuous functions (such as $ f(x) $ in this example) and smooth functions.\n",
    "5. If for a smooth function, Clenshaw–Curtis requires 10 points in each dimension to obtain an error of 0.01, and Monte Carlo requires a total of 10,000 points to obtain the same error, at what dimension is Monte Carlo more efficient than Clenshaw–Curtis in achieving an error of 0.01?"
   ]
  },
  {
   "cell_type": "code",
   "execution_count": null,
   "id": "4af7e091-4bca-4750-909e-8d79ca570772",
   "metadata": {},
   "outputs": [],
   "source": []
  },
  {
   "cell_type": "markdown",
   "id": "f171fa3e-e308-4e45-82b3-c7cbe8f9fc1a",
   "metadata": {},
   "source": [
    "## Problem 3\n",
    "\n",
    "To do: something with Richardson extrapolation?  FNC book has some problems involving extrapolation methods, I think?"
   ]
  },
  {
   "cell_type": "markdown",
   "id": "953464d4-ab3b-46eb-8cd3-efc02a3abcc8",
   "metadata": {},
   "source": [
    "## Problem 4:\n",
    "\n",
    "To do (Steven): Newton methods, from [problem 3 of this pset](https://github.com/mitmath/18335/blob/spring21/psets/pset1.pdf)"
   ]
  },
  {
   "cell_type": "code",
   "execution_count": null,
   "id": "0c18fba5-b306-45da-a21b-b8d8c1c94669",
   "metadata": {},
   "outputs": [],
   "source": []
  }
 ],
 "metadata": {
  "kernelspec": {
   "display_name": "Python 3 (ipykernel)",
   "language": "python",
   "name": "python3"
  },
  "language_info": {
   "codemirror_mode": {
    "name": "ipython",
    "version": 3
   },
   "file_extension": ".py",
   "mimetype": "text/x-python",
   "name": "python",
   "nbconvert_exporter": "python",
   "pygments_lexer": "ipython3",
   "version": "3.9.6"
  }
 },
 "nbformat": 4,
 "nbformat_minor": 5
}
