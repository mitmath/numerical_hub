{
 "cells": [
  {
   "cell_type": "markdown",
   "id": "01ad88a2-a4dc-457b-90d5-c7e14eff71df",
   "metadata": {},
   "source": [
    "# Pset 5"
   ]
  },
  {
   "cell_type": "markdown",
   "id": "b9b7c648-46b3-4212-9e40-a01d2f2be2d9",
   "metadata": {},
   "source": [
    "## Problem 1\n",
    "\n",
    "Consider the following ordinary differential equation  \n",
    "\n",
    "$$\\frac{dx}{dt} = i x, \\quad x(0) = 1$$  \n",
    "\n",
    "where $i = \\sqrt{-1}$.  \n",
    "\n",
    "1. What is the analytical solution of the ODE at $t = \\pi$?  \n",
    "\n",
    "2. Write a code to numerically solve the ODE using forward Euler. What is the numerical solution at $t = \\pi$ with the following time step sizes?  \n",
    "   $\\Delta t = \\pi / 2^n, \\quad n = 0, 1, \\dots, 10$  \n",
    "\n",
    "3. Generate a **log-log** plot of the solution error (the absolute value of difference between the numerical and analytical solutions) at $t = \\pi$ versus $\\Delta t$. Describe what you observe in the plot.  \n"
   ]
  },
  {
   "cell_type": "markdown",
   "id": "22990133-b81a-48ed-a6d8-130b3936de86",
   "metadata": {},
   "source": [
    "## Solution:\n",
    "\n",
    "### Part 1\n",
    "We consider the ODE  \n",
    "$$\n",
    "\\frac{dx}{dt} = i x, \\quad x(0)=1, \\quad \\text{where } i=\\sqrt{-1}.\n",
    "$$  \n",
    "Separating variables or recognizing it as a standard first-order linear ODE, we obtain the solution  \n",
    "$$\n",
    "x(t) = e^{i t}.\n",
    "$$  \n",
    "Evaluating at $t=\\pi$:  \n",
    "$$\n",
    "x(\\pi) = e^{i \\pi} = -1.\n",
    "$$  \n",
    "Thus, the analytical solution at $t=\\pi$ is $-1$.\n"
   ]
  },
  {
   "cell_type": "code",
   "execution_count": 1,
   "id": "58d9c75c-2384-4a53-8b49-4b99e88bc2a3",
   "metadata": {},
   "outputs": [
    {
     "name": "stdout",
     "output_type": "stream",
     "text": [
      "0 (1+3.141592653589793j)\n",
      "1 (-1.4674011002723395+3.141592653589793j)\n",
      "2 (-2.320597388556937+1.2037003610710544j)\n",
      "3 (-1.7553676637374411+0.2617424971050859j)\n",
      "4 (-1.3523575215265728+0.05339692774278987j)\n",
      "5 (-1.1658189293767178+0.01169964130484337j)\n",
      "6 (-1.0800532683412984+0.002721367899543206j)\n",
      "7 (-1.039293687670873+0.0006553749548332856j)\n",
      "8 (-1.0194620715000515+0.00016076084087411277j)\n",
      "9 (-1.0096846994337163+3.980745440099447e-05j)\n",
      "10 (-1.004830750680357+9.90418889498107e-06j)\n"
     ]
    },
    {
     "data": {
      "image/png": "[encoded data removed]",
      "text/plain": [
       "<Figure size 640x480 with 1 Axes>"
      ]
     },
     "metadata": {},
     "output_type": "display_data"
    }
   ],
   "source": [
    "# Part 2 (Numerical Solution Code)\n",
    "\n",
    "from pylab import *\n",
    "\n",
    "error = []\n",
    "\n",
    "for n in range(11):\n",
    "    dt = pi / 2**n   # time step size\n",
    "    x = 1            # initial condition\n",
    "    # Forward Euler update: x_{k+1} = x_k + i * x_k * dt\n",
    "    for i in range(2**n):\n",
    "        x = x + 1j * dt * x\n",
    "    print(n, x)                 # print n and the numerical approximation\n",
    "    error.append(abs(x + 1))    # error = |x - (-1)| = |x + 1|\n",
    "\n",
    "loglog(pi / 2**arange(11), error, 'o-')\n",
    "grid()"
   ]
  },
  {
   "cell_type": "markdown",
   "id": "96e01a07-b5fb-430e-bbe7-8c95223b6968",
   "metadata": {},
   "source": [
    "### Part 3 \n",
    "1. **Plot Interpretation**: The figure plots the absolute error $\\lvert x(\\pi) + 1 \\rvert$ versus the time step size $\\Delta t$ on a log-log scale.  \n",
    "2. **Observations**:  \n",
    "   - As $\\Delta t$ decreases, the numerical solution converges to the exact value $-1$.  \n",
    "   - The linear trend in the log-log plot indicates a first-order convergence rate (Forward Euler is known to be $O(\\Delta t)$ accurate).  \n",
    "3. **Conclusion**: Reducing $\\Delta t$ improves the accuracy, and the errors align with the theoretical first-order convergence behavior of the Forward Euler method.\n"
   ]
  },
  {
   "cell_type": "markdown",
   "id": "eeb86d31-15c7-4f01-a83d-cd1b7d94eafa",
   "metadata": {},
   "source": [
    "## Problem 2\n",
    "\n",
    "Consider the following numerical integration methods:  \n",
    "\n",
    "1.  \n",
    "   $$ v^{n+1} = -4v^n + 5v^{n-1} + 4\\Delta t F(v^n) + 2\\Delta t F(v^{n-1}) $$  \n",
    "\n",
    "2.  \n",
    "   $$ v^{n+1} = v^n + \\frac{3}{2} \\Delta t F(v^{n+1}) - \\frac{1}{2} \\Delta t F(v^{n-1}) $$  \n",
    "\n",
    "- For each scheme, determine whether it is zero stable.  \n",
    "- For each scheme, determine its global order of accuracy.  \n",
    "- For each scheme, determine whether it is eigenvalue stable in solving the equation  \n",
    "\n",
    "  $$ \\frac{du}{dt} = -\\lambda u $$  \n",
    "\n",
    "  for a real, nonnegative $\\lambda$. If your answer depends on $\\Delta t$, state the range of $\\Delta t$ for which the scheme is eigenvalue stable.  \n"
   ]
  },
  {
   "cell_type": "markdown",
   "id": "cc1c2576-2683-4e01-8186-a84fd4216b40",
   "metadata": {},
   "source": [
    "## Solution\n",
    "\n",
    "We consider two linear multistep schemes:\n",
    "\n",
    "1. **Scheme 1**  \n",
    "   $$\n",
    "   v^{n+1} = -4\\,v^n + 5\\,v^{n-1} + 4\\,\\Delta t\\,F(v^n) + 2\\,\\Delta t\\,F(v^{n-1}).\n",
    "   $$\n",
    "\n",
    "2. **Scheme 2**  \n",
    "   $$\n",
    "   v^{n+1} = v^n + \\tfrac{3}{2}\\,\\Delta t\\,F(v^{n+1}) - \\tfrac{1}{2}\\,\\Delta t\\,F(v^{n-1}).\n",
    "   $$\n",
    "\n",
    "Below we determine zero stability, global order of accuracy, and eigenvalue stability for each scheme. The eigenvalue stability is checked by applying each scheme to the test equation\n",
    "\n",
    "$$\n",
    "\\frac{du}{dt} = -\\lambda\\,u, \\quad \\lambda \\ge 0.\n",
    "$$\n",
    "\n",
    "---\n",
    "\n",
    "### 1. Scheme 1\n",
    "\n",
    "#### 1.1 Zero Stability\n",
    "Set $F \\equiv 0$. The method reduces to\n",
    "\n",
    "$$\n",
    "v^{n+1} = -4\\,v^n + 5\\,v^{n-1}.\n",
    "$$\n",
    "\n",
    "Assuming a trial solution $v^n = r^n$ gives the characteristic polynomial\n",
    "\n",
    "$$\n",
    "r^2 + 4r - 5 = 0,\n",
    "$$\n",
    "\n",
    "with roots $r=1$ and $r=-5$. Since $|-5| > 1$, the method fails the root condition and is **not zero stable**.\n",
    "\n",
    "#### 1.2 Global Order of Accuracy\n",
    "A local truncation error analysis (via Taylor expansions) shows that the scheme is **formally second order**. However, due to the lack of zero stability, it will not converge in practice.\n",
    "\n",
    "#### 1.3 Eigenvalue Stability\n",
    "For the test equation $F(v)=-\\lambda\\,v$, the scheme becomes\n",
    "\n",
    "$$\n",
    "v^{n+1} = (-4 - 4\\,\\lambda\\,\\Delta t)\\,v^n + (5 - 2\\,\\lambda\\,\\Delta t)\\,v^{n-1}.\n",
    "$$\n",
    "\n",
    "Its homogeneous part already has a root of magnitude 5 when $\\Delta t=0$. Hence, for $\\lambda\\Delta t > 0$, there is no value of $\\Delta t$ that stabilizes this large root. The method is therefore **eigenvalue unstable for all $\\Delta t$**.\n",
    "\n",
    "---\n",
    "\n",
    "### 2. Scheme 2\n",
    "\n",
    "#### 2.1 Zero Stability\n",
    "Set $F \\equiv 0$. The method reduces to\n",
    "\n",
    "$$\n",
    "v^{n+1} = v^n.\n",
    "$$\n",
    "\n",
    "The characteristic equation is $r-1=0$, with a simple root $r=1$. Thus, **zero stability holds**.\n",
    "\n",
    "#### 2.2 Global Order of Accuracy\n",
    "By examining the local truncation error (using Taylor expansions around $t_n$), one finds that the method has **first-order accuracy** globally ($O(\\Delta t)$).\n",
    "\n",
    "#### 2.3 Eigenvalue Stability\n",
    "Substitute $F(v)=-\\lambda\\,v$ into\n",
    "\n",
    "$$\n",
    "v^{n+1} = v^n - \\tfrac{3}{2}\\,\\lambda\\,\\Delta t\\,v^{n+1} + \\tfrac{1}{2}\\,\\lambda\\,\\Delta t\\,v^{n-1}.\n",
    "$$\n",
    "\n",
    "Rearrange to:\n",
    "\n",
    "$$\n",
    "\\Bigl(1 + \\tfrac{3}{2}\\,\\lambda\\,\\Delta t\\Bigr)v^{n+1} = v^n + \\tfrac{1}{2}\\,\\lambda\\,\\Delta t\\,v^{n-1}.\n",
    "$$\n",
    "\n",
    "Assuming a trial solution $v^n = r^n$ leads to a quadratic equation in $r$. One can show that for $\\lambda \\ge 0$ and $\\Delta t > 0$, the magnitudes of both roots satisfy $|r| \\le 1$. Hence, the scheme is **eigenvalue stable for all $\\Delta t > 0$**.\n",
    "\n",
    "---\n",
    "\n",
    "#### Summary\n",
    "\n",
    "- **Scheme 1**  \n",
    "  - **Zero Stability**: Fails (one root is $-5$).  \n",
    "  - **Global Order**: Formally second order, but non-convergent due to zero instability.  \n",
    "  - **Eigenvalue Stability**: Unstable for any $\\Delta t$.\n",
    "\n",
    "- **Scheme 2**  \n",
    "  - **Zero Stability**: Succeeds (root is $1$).  \n",
    "  - **Global Order**: First order.  \n",
    "  - **Eigenvalue Stability**: Stable for all $\\lambda \\ge 0$ and $\\Delta t > 0$.\n"
   ]
  },
  {
   "cell_type": "code",
   "execution_count": null,
   "id": "59b1eae4-1c7e-408c-8c28-f306ae36e912",
   "metadata": {},
   "outputs": [],
   "source": []
  },
  {
   "cell_type": "markdown",
   "id": "fc6539cf-aad6-4760-80fc-e4ecbf7188be",
   "metadata": {},
   "source": [
    "## Problem 3\n",
    "\n",
    "A reasonable model of the velocity $v(t)$ of a skydiver is\n",
    "\n",
    "$ \\frac{dv}{dt} = -g + \\frac{k}{m} v^2, \\quad v(0) = 0, $\n",
    "\n",
    "where $g = 9.8 \\, \\text{m/sec}^2$ is gravitational acceleration, $m$ is the mass of the skydiver with parachute, and $k$ quantifies the effect of air resistance. At the US Air Force Academy, a training jump starts at about 1200 m and has $k = 0.4875$ for $t < 13$ and $k = 29.16$ for $t \\geq 13$. (This is an oversimplification; see Meade & Struthers (1999).)\n",
    "\n",
    "(a) Solve the IVP for $v$ for an 80-kg cadet for $t \\in [0,200]$, and plot the solution.\n",
    "\n",
    "(b) Suppose we also want the altitude h, satisfying $dh/dt = -v$.   Write a combined system of ODEs du/dt = f(u,t) for the vector u = [v, h].  (What is the right-hand-side f(u,t) and the initial condition u(0)?)   Plug this system into your numerical solver algorithm from part (a) and plot the resulting h(t) (from the second component of the solution).\n",
    "\n",
    "(c) You should have found that the altitude h becomes negative at some point.  How would you determine, consistent with your approximate solver in part (b), the time t at which h(t)=0? (i.e. when does the skydiver hit the ground?).   (Hint: what interpolation between data points $t_n, u_n$ is implied by your numerical method?)\n",
    "\n",
    "\n",
    "\n",
    "\n",
    "\n",
    "\n",
    "  \n"
   ]
  },
  {
   "cell_type": "markdown",
   "id": "4c067df5",
   "metadata": {},
   "source": [
    "## Solutions\n",
    "(a) The foward Euler method was implemented and used to solve the IVP. The solution is plotted below."
   ]
  },
  {
   "cell_type": "code",
   "execution_count": 2,
   "id": "c45fa902-5875-4813-ae74-086871396a6b",
   "metadata": {},
   "outputs": [
    {
     "data": {
      "image/png": "[encoded data removed]",
      "text/plain": [
       "<Figure size 640x480 with 1 Axes>"
      ]
     },
     "metadata": {},
     "output_type": "display_data"
    }
   ],
   "source": [
    "import numpy as np\n",
    "import math\n",
    "import matplotlib.pyplot as plt\n",
    "\n",
    "g, m = 9.8, 80\n",
    "k = lambda t: 0.4875 if t<13 else 29.16\n",
    "dv_dt = lambda u, t: np.array([-g + k(t) * u[0]**2 / m]) #u = [v]\n",
    "dt = 2e-4\n",
    "def forward_euler(F, u0, t_end = 200, dt=dt):\n",
    "    u, t, dim = u0, 0, len(u0)\n",
    "    N = math.ceil(t_end/dt)\n",
    "    u_history = np.zeros((N+1, dim))\n",
    "    u_history[0,:] = u\n",
    "    for i in range(1,N+1):\n",
    "        u += F(u, t) * dt\n",
    "        t = i*dt\n",
    "        u_history[i,:] = u\n",
    "    return u_history\n",
    "    \n",
    "v_history = forward_euler(dv_dt, [0])\n",
    "\n",
    "plt.plot(np.arange(0,200+dt,dt), v_history[:,0])\n",
    "plt.xlabel('Time [s]')\n",
    "plt.ylabel('Velocity [m/s]')\n",
    "plt.show()"
   ]
  },
  {
   "cell_type": "markdown",
   "id": "ea8a442d",
   "metadata": {},
   "source": [
    "(b) With $u = [v, h]$, we have $du/dt = [dv/dt, dh/dt] = [-g + \\frac{k}{m} v^2, v]$. Using the solver implemented above, we obtain the following plot for height."
   ]
  },
  {
   "cell_type": "code",
   "execution_count": 3,
   "id": "4c063981",
   "metadata": {},
   "outputs": [
    {
     "data": {
      "image/png": "[encoded data removed]",
      "text/plain": [
       "<Figure size 640x480 with 1 Axes>"
      ]
     },
     "metadata": {},
     "output_type": "display_data"
    }
   ],
   "source": [
    "du_dt = lambda u,t: np.array([-g + k(t) * u[0]**2 / m, u[0]]) #u = [v, h]\n",
    "    \n",
    "vh_history = forward_euler(du_dt, [0, 1200])\n",
    "h_history = vh_history[:,1]\n",
    "plt.plot(np.arange(0,200+dt,dt), h_history)\n",
    "plt.xlabel('Time [s]')\n",
    "plt.ylabel('Height [m]')\n",
    "plt.show()"
   ]
  },
  {
   "cell_type": "markdown",
   "id": "6deb3d1f",
   "metadata": {},
   "source": [
    "(c) Forward Euler linear interpolates consective data points: $u_{i+1} = u_i + F(u_i, t_i)\\Delta t$. We can first determine the index $j$ such that $u_j >0$ and $u_{j+1} < 0$. Then, due to linear interpolation, we can find the x-intercept of the line joining $(t_j, h_j)$ and $(t_{j+1}, h_{j+1})$: $t_z = t_j + \\frac{\\Delta t h_j}{h_j-h_{j+1}} \\approx 164.99$"
   ]
  },
  {
   "cell_type": "code",
   "execution_count": 4,
   "id": "521fdde1",
   "metadata": {},
   "outputs": [
    {
     "data": {
      "text/plain": [
       "164.99036292911737"
      ]
     },
     "execution_count": 4,
     "metadata": {},
     "output_type": "execute_result"
    }
   ],
   "source": [
    "N = len(h_history)\n",
    "for j in range(N):\n",
    "    if h_history[j]*h_history[j+1] < 0:\n",
    "        break\n",
    "h_l, h_r = h_history[j], h_history[j+1]\n",
    "t_l, t_r = j*dt, (j+1)*dt\n",
    "t_z = t_l + dt*h_l/(h_l-h_r)\n",
    "t_z"
   ]
  },
  {
   "cell_type": "code",
   "execution_count": null,
   "id": "9819540c",
   "metadata": {},
   "outputs": [],
   "source": []
  }
 ],
 "metadata": {
  "kernelspec": {
   "display_name": "Python 3 (ipykernel)",
   "language": "python",
   "name": "python3"
  },
  "language_info": {
   "codemirror_mode": {
    "name": "ipython",
    "version": 3
   },
   "file_extension": ".py",
   "mimetype": "text/x-python",
   "name": "python",
   "nbconvert_exporter": "python",
   "pygments_lexer": "ipython3",
   "version": "3.9.12"
  }
 },
 "nbformat": 4,
 "nbformat_minor": 5
}
